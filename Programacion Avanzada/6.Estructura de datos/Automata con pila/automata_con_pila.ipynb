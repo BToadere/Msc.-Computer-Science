{
 "cells": [
  {
   "cell_type": "markdown",
   "metadata": {},
   "source": [
    "# Construcción de un evaluador\n",
    "1. Contructor(texto)\n",
    "    Pilas vacias\n",
    "    Crear la pila ocn los elementos separados e identificados\n",
    "2. Evaluador() YO\n",
    "    Ciclo hasta vaciar elementos\n",
    "        Decisiones sobre qeu hacer ej llamar al metodo de operar\n",
    "    ciclo hasta vaciar la cola de los operadores\n",
    "3. Operador()\n",
    "    Sacar operadores\n",
    "    sacar operandos\n",
    "    Meter resultados"
   ]
  },
  {
   "cell_type": "code",
   "execution_count": 13,
   "metadata": {},
   "outputs": [],
   "source": [
    "from collections import deque\n",
    "\n",
    "\n",
    "\n",
    "class evaluador():\n",
    "    def __init__(s, operacion):\n",
    "        s.cola = deque(operacion.split())\n",
    "        s.operadores = deque()\n",
    "        s.operandos = deque()\n",
    "        s.precendencia = ['*', '/', '+', '-', '(', ')']\n",
    "\n",
    "    def es_binario(s, operador):\n",
    "        if operador in s.precendencia[0:-2]:\n",
    "            return True\n",
    "        else:\n",
    "            return False\n",
    "        \n",
    "    def evaluador(s):\n",
    "        \n",
    "        while s.cola[-1]:\n",
    "\n",
    "            ele = s.cola.pop()\n",
    "            if ele[0] == '(':\n",
    "                s.operadores.append(ele)\n",
    "            \n",
    "            elif ele[1] == 'operando':\n",
    "                s.operandos.append(ele)\n",
    "\n",
    "            elif s.precendencia.index(ele[0]) <= s.precendencia.index(s.operador[-1][0]):\n",
    "                up_operador=s.operador.pop()\n",
    "                if up_operador == '(' and ele[0] != ')':\n",
    "                    print('Error en la sintaxis del cálculo')\n",
    "                elif up_operador == '(' and ele[0] == ')':\n",
    "                    pass\n",
    "                else:\n",
    "                    s.operar()\n",
    "                    \n",
    "            elif s.precendencia.index(ele[0]) > s.precendencia.index(s.operador[-1][0]):\n",
    "                s.operadores.append(ele)\n",
    "            \n",
    "            elif not s.operador[-1]:\n",
    "                print(f'El resultado es: {s.operandos.pop()[0]}')\n",
    "            \n",
    "            else:\n",
    "                print('Error en la sintaxis del cálculo')\n",
    "\n",
    "        return\n",
    "\n"
   ]
  },
  {
   "cell_type": "code",
   "execution_count": 14,
   "metadata": {},
   "outputs": [],
   "source": [
    "a=evaluador('1+2+3')"
   ]
  },
  {
   "cell_type": "markdown",
   "metadata": {},
   "source": [
    "# Ordenación léxica\n",
    "1. Ampliar tamaño palabras con esapcio para qeu sea igual\n",
    "2. Crear una cola y meter las palabras por orden\n",
    "3. El diccionario tiene una lista de las letras de las palabras y el espacio\n",
    "4. Ciclo desde la ultima palabra a la primera\n",
    "    se va sacando palabras de la cola y se meten en la cola de su letra\n",
    "\n",
    "\n",
    "# Contrusccion Ordenador\n",
    "1. Constructor(fichero)\n",
    "    Lista letras del alfabeto\n",
    "    diccionario de colas\n",
    "    cargar cola de palabras rellenadas con espacios\n",
    "    Llama a ordenar\n",
    "2. Ordenador\n",
    "    Ciclo por posicion de las letras LAS PALABRAS\n",
    "    3. cargra cada cola \n",
    "        Saca de cola palabras\n",
    "        Mete en la cola qeu toque\n",
    "        repetir ahsta vaciar cola de palabr\n",
    "    4. descargar \n",
    "        iterar por todas las letras\n",
    "        vaciar cola de ltras\n",
    "        cargando cola de palabras"
   ]
  },
  {
   "cell_type": "code",
   "execution_count": null,
   "metadata": {},
   "outputs": [],
   "source": [
    "from collections import deque\n"
   ]
  }
 ],
 "metadata": {
  "kernelspec": {
   "display_name": "Python 3",
   "language": "python",
   "name": "python3"
  },
  "language_info": {
   "codemirror_mode": {
    "name": "ipython",
    "version": 3
   },
   "file_extension": ".py",
   "mimetype": "text/x-python",
   "name": "python",
   "nbconvert_exporter": "python",
   "pygments_lexer": "ipython3",
   "version": "3.12.6"
  }
 },
 "nbformat": 4,
 "nbformat_minor": 2
}
