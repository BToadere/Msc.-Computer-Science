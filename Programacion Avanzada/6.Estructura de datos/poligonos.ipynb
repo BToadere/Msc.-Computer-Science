{
 "cells": [
  {
   "cell_type": "markdown",
   "metadata": {},
   "source": [
    "Poligonos 2d, con listas enlazadas dobles\n",
    "metodo para borrar un vertice\n",
    "metodo para el perimetro\n"
   ]
  },
  {
   "cell_type": "code",
   "execution_count": 7,
   "metadata": {},
   "outputs": [
    {
     "name": "stdout",
     "output_type": "stream",
     "text": [
      "[7, 12, 13]\n"
     ]
    }
   ],
   "source": [
    "class elemento():\n",
    "    def __init__(s, valor):\n",
    "        s.valor = valor\n",
    "        s.pos = None\n",
    "\n",
    "    def borrrarprimero(s):\n",
    "        s=s.pos\n",
    "\n",
    "    def listavalores(s):\n",
    "        lista =[s.valor]\n",
    "        s_aux=s\n",
    "        while(s_aux.pos):\n",
    "            s_aux = s_aux.pos\n",
    "            lista.append(s_aux.valor)\n",
    "        \n",
    "        return lista\n",
    "\n",
    "\n",
    "e=elemento(7)\n",
    "e2=elemento(12)\n",
    "\n",
    "e.pos=e2\n",
    "\n",
    "e3=elemento(13)\n",
    "\n",
    "e2.pos = e3\n",
    "\n",
    "\n",
    "l = e.listavalores()\n",
    "print(l)"
   ]
  },
  {
   "cell_type": "code",
   "execution_count": 29,
   "metadata": {},
   "outputs": [
    {
     "name": "stdout",
     "output_type": "stream",
     "text": [
      "El valor qeu se quiere eliminar (1, 4) no existe\n",
      "[(0, 0), (0, 1), (1, 1), (1, 0)]\n",
      "4.0\n"
     ]
    }
   ],
   "source": [
    "import numpy as np\n",
    "\n",
    "class vertice():\n",
    "    def __init__(s, valor):\n",
    "        s.valor = valor\n",
    "        s.anterior = None\n",
    "        s.posterior = None\n",
    "\n",
    "    def listavalores(s):\n",
    "        lista =[s.valor]\n",
    "        s_aux=s\n",
    "        while(s_aux.posterior):\n",
    "            s_aux = s_aux.posterior\n",
    "            lista.append(s_aux.valor)\n",
    "        \n",
    "        return lista\n",
    "\n",
    "class Poligono():\n",
    "\n",
    "    def __init__(poli, lista_vertices):  \n",
    "        \n",
    "        poli.vert_inicial = lista_vertices[0]\n",
    "        poli.vert_final = lista_vertices[-1]\n",
    "\n",
    "        poli.vertices = vertice(lista_vertices[0])\n",
    "        aux = poli.vertices\n",
    "        \n",
    "        for i in range(1, len(lista_vertices)):\n",
    "            vert = vertice(lista_vertices[i])\n",
    "            aux.posterior = vert\n",
    "            vert.anterior = aux\n",
    "            aux = vert\n",
    "        return\n",
    "    \n",
    "    def perimetro(poli):\n",
    "        result = 0\n",
    "        vert = poli.vertices\n",
    "        while vert.posterior:\n",
    "            pto_act = np.array(vert.valor)\n",
    "            pto_pos = np.array(vert.posterior.valor)\n",
    "            result += np.sqrt(np.sum((pto_pos-pto_act)**2))\n",
    "            vert = vert.posterior\n",
    "\n",
    "        pto_final = np.array(vert.valor)\n",
    "        pto_inicial = np.array(poli.vertices.valor)\n",
    "        result += np.sqrt(np.sum((pto_final-pto_inicial)**2))\n",
    "\n",
    "        return result\n",
    "    \n",
    "    def borrar(poli, valor):\n",
    "        vert = poli.vertices\n",
    "        while True:\n",
    "            # verti_anterior = vert.anterior\n",
    "            if vert.valor == valor:\n",
    "                vert.anterior.posterior = vert.posterior\n",
    "                vert.posterior.anterior = vert.anterior\n",
    "                break\n",
    "            elif not vert.posterior:\n",
    "                print(f'El valor qeu se quiere eliminar {valor} no existe')\n",
    "                break\n",
    "            else:\n",
    "                vert = vert.posterior\n",
    "        return\n",
    "    \n",
    "\n",
    "\n",
    "if __name__ == '__main__':\n",
    "    li=[(0,0),(0,1),(1,1),(1,0)]\n",
    "    poli = Poligono(li)\n",
    "    poli.borrar((1,4))\n",
    "    print(poli.vertices.listavalores())\n",
    "    print(poli.perimetro())"
   ]
  },
  {
   "cell_type": "code",
   "execution_count": null,
   "metadata": {},
   "outputs": [],
   "source": []
  },
  {
   "cell_type": "markdown",
   "metadata": {},
   "source": [
    "        PilaOperadores              PilaOperandos           Exrpresion=5*(4-2)\n",
    "    1.                                  5\n",
    "    2.      *\n",
    "    3.      (                       \n",
    "    4.                                  4\n",
    "    5.      -\n",
    "    6.                                  2\n",
    "\n",
    "    ) No entra en a pila por las normas\n",
    "\n",
    "Ahora SACAMOS:\n",
    "    1.      -\n",
    "    2.      4-2=2\n",
    "    3.      El parentesis de dentro de la pila se ha cancelado con el de fuera\n",
    "    4. "
   ]
  }
 ],
 "metadata": {
  "kernelspec": {
   "display_name": "Python 3",
   "language": "python",
   "name": "python3"
  },
  "language_info": {
   "codemirror_mode": {
    "name": "ipython",
    "version": 3
   },
   "file_extension": ".py",
   "mimetype": "text/x-python",
   "name": "python",
   "nbconvert_exporter": "python",
   "pygments_lexer": "ipython3",
   "version": "3.12.6"
  }
 },
 "nbformat": 4,
 "nbformat_minor": 2
}
