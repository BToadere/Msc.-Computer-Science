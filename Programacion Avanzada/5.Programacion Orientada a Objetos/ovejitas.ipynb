{
 "cells": [
  {
   "cell_type": "code",
   "execution_count": 2,
   "metadata": {},
   "outputs": [],
   "source": [
    "def pick(l: list, index: int) -> int:\n",
    "    return l[index]"
   ]
  },
  {
   "cell_type": "code",
   "execution_count": 3,
   "metadata": {},
   "outputs": [
    {
     "name": "stdout",
     "output_type": "stream",
     "text": [
      "<class 'tuple'>\n"
     ]
    },
    {
     "data": {
      "text/plain": [
       "2"
      ]
     },
     "execution_count": 3,
     "metadata": {},
     "output_type": "execute_result"
    }
   ],
   "source": [
    "tupla = 1,2,3,4\n",
    "\n",
    "print(type(tupla))\n",
    "pick(tupla, 1)"
   ]
  },
  {
   "cell_type": "markdown",
   "metadata": {},
   "source": [
    "Definimos clase oveja, comparables, van a tener edad y peso, si una oveja>oveja entonces edad si la edad es l amisma entonces ocmparamos pesos\n",
    "\n",
    "Las ovejas s epueden multiplicar, nuevo atributo, si ultiplicas dos ovejas nueva oveja edad 0 peso 10 y la raza es:\n",
    "    Si la raza es la misma es esa\n",
    "    Si no es la ocncatenación \n",
    "\n",
    "Las ovejas s epueden iterar, siempre devuelven \"Beee\""
   ]
  },
  {
   "cell_type": "code",
   "execution_count": 26,
   "metadata": {},
   "outputs": [
    {
     "name": "stdout",
     "output_type": "stream",
     "text": [
      "Esta maravillosa oveja:\n",
      "                    \n",
      "Es de la raza: dura.\n",
      "                    \n",
      "Tiene 25 años.\n",
      "                    \n",
      "Y pesa 50 Kg.\n",
      "                \n",
      "Esta maravillosa oveja:\n",
      "                    \n",
      "Es de la raza: marciana.\n",
      "                    \n",
      "Tiene 25 años.\n",
      "                    \n",
      "Y pesa 60 Kg.\n",
      "                \n",
      "Esta maravillosa oveja:\n",
      "                    \n",
      "Es de la raza: dura.\n",
      "                    \n",
      "Tiene 45 años.\n",
      "                    \n",
      "Y pesa 30 Kg.\n",
      "                \n",
      "Esta maravillosa oveja:\n",
      "                    \n",
      "Es de la raza: dura.\n",
      "                    \n",
      "Tiene 0 años.\n",
      "                    \n",
      "Y pesa 10 Kg.\n",
      "                \n",
      "Esta maravillosa oveja:\n",
      "                    \n",
      "Es de la raza: dura-marciana.\n",
      "                    \n",
      "Tiene 0 años.\n",
      "                    \n",
      "Y pesa 10 Kg.\n",
      "                \n"
     ]
    }
   ],
   "source": [
    "from itertools import repeat\n",
    "\n",
    "\n",
    "class oveja():\n",
    "    \n",
    "    def __init__(self, raza, edad, peso):\n",
    "        self.raza = raza\n",
    "        self.edad = edad\n",
    "        self.peso = peso\n",
    "\n",
    "    def __gt__(self1, self2):\n",
    "        if self1.edad > self2.edad:\n",
    "            return True\n",
    "        elif self1.edad == self2.edad and self1.peso> self2.peso:\n",
    "            return True\n",
    "        else:\n",
    "            return False\n",
    "        \n",
    "    def __mul__(self1, self2):\n",
    "\n",
    "        if self1.raza.upper() == self2.raza.upper():\n",
    "            raza_new = self1.raza\n",
    "        else:\n",
    "            raza_new = self1.raza+'-'+self2.raza\n",
    "\n",
    "        return oveja(raza=raza_new, edad=0, peso=10)\n",
    "    \n",
    "    \n",
    "    def __iter__(self):\n",
    "        self.__contador__ =0\n",
    "        return self\n",
    "    \n",
    "    def __next__(self):\n",
    "        if self.__contador__ < 3:\n",
    "            self.__contador__ +=1\n",
    "            return 'Beee'\n",
    "        else:\n",
    "            raise StopIteration\n",
    "        \n",
    "    def __str__(self):\n",
    "        text = f\"\"\"Esta maravillosa oveja:\n",
    "                    \\nEs de la raza: {self.raza}.\n",
    "                    \\nTiene {self.edad} años.\n",
    "                    \\nY pesa {self.peso} Kg.\n",
    "                \"\"\"\n",
    "        return text\n",
    "\n",
    "    # def __iter__(self):\n",
    "    #     return repeat('Beee', 3)\n",
    "    \n",
    "\n",
    "\n",
    "dolly = oveja('dura', 25, 50)\n",
    "mari = oveja('marciana', 25, 60)\n",
    "pepa = oveja('dura', 45, 30)\n",
    "\n",
    "hija = dolly*pepa\n",
    "hijo = dolly*mari\n",
    "\n",
    "\n",
    "\n",
    "\n",
    "print(dolly)\n",
    "print(mari)\n",
    "print(pepa)\n",
    "\n",
    "print(hija)\n",
    "print(hijo)\n",
    "\n",
    "# mari>dolly"
   ]
  },
  {
   "cell_type": "code",
   "execution_count": null,
   "metadata": {},
   "outputs": [],
   "source": []
  },
  {
   "cell_type": "code",
   "execution_count": null,
   "metadata": {},
   "outputs": [],
   "source": []
  }
 ],
 "metadata": {
  "kernelspec": {
   "display_name": "Python 3",
   "language": "python",
   "name": "python3"
  },
  "language_info": {
   "codemirror_mode": {
    "name": "ipython",
    "version": 3
   },
   "file_extension": ".py",
   "mimetype": "text/x-python",
   "name": "python",
   "nbconvert_exporter": "python",
   "pygments_lexer": "ipython3",
   "version": "3.12.6"
  }
 },
 "nbformat": 4,
 "nbformat_minor": 2
}
