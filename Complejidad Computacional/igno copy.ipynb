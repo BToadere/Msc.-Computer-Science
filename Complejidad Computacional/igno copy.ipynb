{
 "cells": [
  {
   "cell_type": "code",
   "execution_count": null,
   "metadata": {},
   "outputs": [],
   "source": [
    "seguir = True\n",
    "while seguir:\n",
    "    cm=0\n",
    "    pm=0\n",
    "    cf=0\n",
    "    pf=0\n",
    "    for _ in range(3):\n",
    "        s= input('sexo: ')\n",
    "        while s !='f' and s!='m':\n",
    "            print('sexo invalido')\n",
    "            s= input('sexo:')\n",
    "        p= float(input('peso: '))\n",
    "\n",
    "        if s=='m':\n",
    "            cm+=1\n",
    "            pm+=p \n",
    "        if s=='f':\n",
    "            cf+=1\n",
    "            pf+=p\n",
    "    \n",
    "    if cm>0:\n",
    "        mm=pm/cm\n",
    "        print(f'La media masculina es: {mm}')\n",
    "\n",
    "    if cf>0:\n",
    "        mf=pf/cf\n",
    "        print(f'La media femenina es : {mf}')\n",
    "            \n",
    "    seguir= int(input('desea continuar? 0 para no 1 para si: '))\n"
   ]
  },
  {
   "cell_type": "code",
   "execution_count": 1,
   "metadata": {},
   "outputs": [
    {
     "name": "stdout",
     "output_type": "stream",
     "text": [
      "sexo invalido\n",
      "La media masculina es: 30.0\n",
      "La media femenina es : 15.0\n"
     ]
    }
   ],
   "source": [
    "seguir = True\n",
    "cm=0\n",
    "pm=0\n",
    "cf=0\n",
    "pf=0\n",
    "while seguir:\n",
    "    for _ in range(3):\n",
    "        s= input('sexo: ')\n",
    "        while s !='f' and s!='m':\n",
    "            print('sexo invalido')\n",
    "            s= input('sexo:')\n",
    "        p= float(input('peso: '))\n",
    "\n",
    "        if s=='m':\n",
    "            cm+=1\n",
    "            pm+=p \n",
    "        if s=='f':\n",
    "            cf+=1\n",
    "            pf+=p           \n",
    "    seguir= int(input('desea continuar? 0 para no 1 para si: '))\n",
    "\n",
    "if cm>0:\n",
    "        mm=pm/cm\n",
    "        print(f'La media masculina es: {mm}')\n",
    "\n",
    "if cf>0:\n",
    "    mf=pf/cf\n",
    "    print(f'La media femenina es : {mf}')"
   ]
  }
 ],
 "metadata": {
  "kernelspec": {
   "display_name": "Python 3",
   "language": "python",
   "name": "python3"
  },
  "language_info": {
   "codemirror_mode": {
    "name": "ipython",
    "version": 3
   },
   "file_extension": ".py",
   "mimetype": "text/x-python",
   "name": "python",
   "nbconvert_exporter": "python",
   "pygments_lexer": "ipython3",
   "version": "3.12.6"
  }
 },
 "nbformat": 4,
 "nbformat_minor": 2
}
