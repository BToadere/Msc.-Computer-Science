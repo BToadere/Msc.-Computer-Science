{
 "cells": [
  {
   "cell_type": "markdown",
   "metadata": {},
   "source": [
    "# Representando los polinómios racionales.\n",
    "\n",
    "Como los queremos representar?\n",
    "\n",
    "listas de coeficientes, no?         Claaaaaaaaaaro\n",
    "\n",
    "\n",
    "aceptamos listas del tipo [1,2,0,1,0,1,0,0,0,0,0,0]     Pues si, no nos hace daño"
   ]
  },
  {
   "cell_type": "markdown",
   "metadata": {},
   "source": []
  },
  {
   "cell_type": "code",
   "execution_count": null,
   "metadata": {
    "vscode": {
     "languageId": "python"
    }
   },
   "outputs": [],
   "source": [
    "class Polinomios():\n",
    "    def __init__(self, L):\n",
    "        self.coeffs= copy(L)\n",
    "        self.limpia()\n",
    "        self.len=len(self.coeffs)\n",
    "        self.grado=self.len-1\n",
    "\n",
    "    def limpia(self):\n",
    "        while self.coeffs and self.coeffs[-1]==0:\n",
    "            self.coeffs.pop()\n",
    "    \n",
    "    def __repr__(self):\n",
    "        return self.coeffs.__repr__()\n",
    "\n",
    "    def __add__(self, other):              # Se ha hehco asi la funcion suma porque no es eficiente tener que\n",
    "        s=min(self.len, other.len)         # hacer añadr ceros a la lista mas corta para poder sumarlas, en general tener qeu añadir ceros no e sbuena idea\n",
    "        C=[self.coeffs[i]+other.coeffs[i] for i in range(s)]\n",
    "        if self.len>other.len:\n",
    "            return Polinomios(C+self.coeffs[s:])\n",
    "        else:\n",
    "            return Polinomios(C)\n",
    "        \n",
    "    def __neg__(self):\n",
    "        return Polinomios([-x for x in self.coeffs])\n",
    "    \n",
    "    def __sub__(self, other):\n",
    "        return self+(-other)\n",
    "    \n",
    "    def __eq__(self, other) -> bool:\n",
    "        return self.coeffs==other.coeffs\n",
    "    \n",
    "    def __mul__(self,other):\n",
    "        if not self.coeffs or not other.coeffs:\n",
    "            return Polinomios([])\n",
    "        C=[0]*(self.len+other.len-1)\n",
    "\n",
    "        for i in range(self.len):\n",
    "            for j in range(other.len):\n",
    "                C[i+j]+=self.coeffs[i]*other.coeffs[j]\n",
    "\n",
    "        return Polinomios(C)\n",
    "    \n",
    "    "
   ]
  },
  {
   "cell_type": "code",
   "execution_count": null,
   "metadata": {
    "vscode": {
     "languageId": "python"
    }
   },
   "outputs": [],
   "source": [
    "p=Polinomios([1,2,3,4])\n",
    "q=Polinomios([1,2,3])\n",
    "\n",
    "\n",
    "p* q"
   ]
  },
  {
   "cell_type": "markdown",
   "metadata": {},
   "source": [
    "## Forma para ver cuanto tarda un proceso\n",
    "\n",
    "%time \n",
    "\n",
    "%timeit"
   ]
  },
  {
   "cell_type": "code",
   "execution_count": null,
   "metadata": {
    "vscode": {
     "languageId": "python"
    }
   },
   "outputs": [],
   "source": []
  },
  {
   "cell_type": "markdown",
   "metadata": {},
   "source": []
  },
  {
   "cell_type": "code",
   "execution_count": null,
   "metadata": {
    "vscode": {
     "languageId": "python"
    }
   },
   "outputs": [],
   "source": []
  }
 ],
 "metadata": {
  "kernelspec": {
   "display_name": "SageMath 9.5",
   "language": "sage",
   "name": "sagemath"
  },
  "language_info": {
   "codemirror_mode": {
    "name": "ipython",
    "version": 3
   },
   "file_extension": ".py",
   "mimetype": "text/x-python",
   "name": "sage",
   "nbconvert_exporter": "python",
   "pygments_lexer": "ipython3",
   "version": "3.10.12"
  }
 },
 "nbformat": 4,
 "nbformat_minor": 2
}
