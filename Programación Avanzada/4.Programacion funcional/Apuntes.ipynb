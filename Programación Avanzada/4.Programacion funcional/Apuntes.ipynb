{
 "cells": [
  {
   "cell_type": "markdown",
   "metadata": {},
   "source": [
    "# Vamos a hacer pruebas con el paquete numpy\n",
    "Primero cargaremos unas matrices de diferenes formas"
   ]
  },
  {
   "cell_type": "code",
   "execution_count": 3,
   "metadata": {},
   "outputs": [],
   "source": [
    "# Cargar matriz por FILAS\n",
    "A=np.array([(1,2,3),(4,5,6)])\n",
    "\n",
    "B = A.reshape((3,2))\n",
    "\n",
    "# Multiplicación matricial A@B\n",
    "\n",
    "C = A@B\n",
    "\n"
   ]
  },
  {
   "cell_type": "markdown",
   "metadata": {},
   "source": [
    "# Carga de datos"
   ]
  },
  {
   "cell_type": "code",
   "execution_count": null,
   "metadata": {},
   "outputs": [],
   "source": [
    "np.loadtxt('file.txt')"
   ]
  },
  {
   "cell_type": "markdown",
   "metadata": {},
   "source": [
    "# Ejercicio"
   ]
  },
  {
   "cell_type": "code",
   "execution_count": 14,
   "metadata": {},
   "outputs": [
    {
     "name": "stdout",
     "output_type": "stream",
     "text": [
      "centro: 11.0\n",
      "media: 9.0\n",
      "mediana: 8.0\n",
      "moda: 2.0\n"
     ]
    }
   ],
   "source": [
    "# datos=[]\n",
    "# with open('datos_estadisticos.txt','r') as file:\n",
    "#     for l in file:\n",
    "#         datos.append(float(l))\n",
    "#     file.close()\n",
    "\n",
    "datos= np.loadtxt('datos_estadisticos.txt')\n",
    "\n",
    "centro = (np.max(datos)+np.min(datos))/2\n",
    "media = np.mean(datos)\n",
    "mediana = np.median(datos)\n",
    "\n",
    "value, border = np.histogram(datos, bins='auto')\n",
    "\n",
    "pos_moda = np.argmax(value)\n",
    "moda = (border[pos_moda]+border[pos_moda])/2\n",
    "\n",
    "\n",
    "print(f\"centro: {centro}\")\n",
    "print(f\"media: {media}\")\n",
    "print(f\"mediana: {mediana}\")\n",
    "print(f\"moda: {moda}\")\n"
   ]
  },
  {
   "cell_type": "markdown",
   "metadata": {},
   "source": [
    "# Programación funcional:\n",
    "\n",
    "f=lambda x,y: x+y\n",
    "Equivalente\n",
    "def f(x,y)\n",
    "    return x+y"
   ]
  },
  {
   "cell_type": "code",
   "execution_count": 5,
   "metadata": {},
   "outputs": [
    {
     "data": {
      "text/plain": [
       "4.0"
      ]
     },
     "execution_count": 5,
     "metadata": {},
     "output_type": "execute_result"
    }
   ],
   "source": [
    "# Creamos función para calcular el area de un triangulo\n",
    "\n",
    "area_triangulo = lambda base,altura: base*altura/2\n",
    "area_triangulo(2,4)"
   ]
  },
  {
   "cell_type": "markdown",
   "metadata": {},
   "source": [
    "## Paquete functools operator"
   ]
  },
  {
   "cell_type": "code",
   "execution_count": 12,
   "metadata": {},
   "outputs": [
    {
     "data": {
      "text/plain": [
       "6"
      ]
     },
     "execution_count": 12,
     "metadata": {},
     "output_type": "execute_result"
    }
   ],
   "source": [
    "import functools\n",
    "from operator import mul\n",
    "\n",
    "# Ejemplo uso functools para fijar un argumento deuna funcion\n",
    "area_triangulo_base3 = functools.partial(area_triangulo, base=3)\n",
    "area_triangulo_base3(altura=2)\n",
    "\n",
    "# Ejemplo usando el paquete operator: mul multiplica los numeros\n",
    "triple_numero = functools.partial(mul,3)\n",
    "\n",
    "triple_numero(2)"
   ]
  },
  {
   "cell_type": "markdown",
   "metadata": {},
   "source": [
    "## Queremos hacer un bucle for, como lo hacemos?\n",
    "\n",
    "Opciones:\n",
    "- map aplica una funcion a una tupla\n",
    "- filter aplica una func boolena a una tupla y se queda con los True\n",
    "- **itertool**\n",
    "    - Iteradores infinitos\n",
    "        - count([start[, step]]) -> cuenta desde \"start\" cada \"step\"\n",
    "        - cycle(p) -> hace un ciclo sobre p\n",
    "        - repeat(elem[,n]) -> repite un elemento \"n-veces\"\n",
    "    - Iteradores que terminan en el input mas corto\n",
    "        - accumulate\n",
    "        - dropwhile\n",
    "        - filterfalse\n",
    "        - islice\n",
    "        - takewhilw\n",
    "    - Iteradores combinatoria\n",
    "        - "
   ]
  },
  {
   "cell_type": "code",
   "execution_count": 17,
   "metadata": {},
   "outputs": [
    {
     "name": "stdout",
     "output_type": "stream",
     "text": [
      "<method-wrapper '__next__' of map object at 0x00000171E9CA3DC0>\n"
     ]
    }
   ],
   "source": [
    "m=map(triple_numero, (0,1,2,3,4,5))\n",
    "print(m)"
   ]
  },
  {
   "cell_type": "code",
   "execution_count": 3,
   "metadata": {},
   "outputs": [
    {
     "name": "stdout",
     "output_type": "stream",
     "text": [
      "[(2020, 'Primavera'), (2020, 'Verano'), (2020, 'Otoño'), (2020, 'Invierno'), (2021, 'Primavera'), (2021, 'Verano'), (2021, 'Otoño'), (2021, 'Invierno'), (2022, 'Primavera'), (2022, 'Verano'), (2022, 'Otoño'), (2022, 'Invierno'), (2023, 'Primavera'), (2023, 'Verano'), (2023, 'Otoño'), (2023, 'Invierno'), (2024, 'Primavera'), (2024, 'Verano'), (2024, 'Otoño'), (2024, 'Invierno'), (2025, 'Primavera'), (2025, 'Verano'), (2025, 'Otoño'), (2025, 'Invierno')]\n"
     ]
    }
   ],
   "source": [
    "import itertools\n",
    "\n",
    "\n",
    "años=itertools.count(2020)\n",
    "\n",
    "años_parados=itertools.islice(años, 6)\n",
    "años_estaciones=itertools.product(años_parados, ('Primavera','Verano','Otoño','Invierno'))\n",
    "\n",
    "\n",
    "print(list(años_estaciones))"
   ]
  },
  {
   "cell_type": "code",
   "execution_count": 6,
   "metadata": {},
   "outputs": [
    {
     "name": "stdout",
     "output_type": "stream",
     "text": [
      "0\n",
      "1\n",
      "4\n",
      "9\n",
      "16\n",
      "25\n",
      "36\n",
      "49\n",
      "64\n",
      "81\n",
      "[]\n"
     ]
    }
   ],
   "source": [
    "# Los iteradores sen AGOTAN\n",
    "m=map(lambda x: x**2,range(10))\n",
    "\n",
    "for i in m:\n",
    "    print(i)\n",
    "\n",
    "print(list(m))"
   ]
  },
  {
   "cell_type": "code",
   "execution_count": 20,
   "metadata": {},
   "outputs": [
    {
     "data": {
      "text/plain": [
       "[]"
      ]
     },
     "execution_count": 20,
     "metadata": {},
     "output_type": "execute_result"
    }
   ],
   "source": [
    "# Como sacar los divisores de un número 7873 es primo\n",
    "\n",
    "def divisores(n):\n",
    "    return list(filter(lambda x: n%x==0, range(2,n)))\n",
    "\n",
    "def divisores_primos(n):\n",
    "    return list(filter(lambda x: len(divisores(x))==0, divisores(n)))\n",
    "\n",
    "divisores_primos(7873)"
   ]
  },
  {
   "cell_type": "markdown",
   "metadata": {},
   "source": [
    "# Full programación funcional\n",
    "26/09/2024"
   ]
  },
  {
   "cell_type": "code",
   "execution_count": 2,
   "metadata": {},
   "outputs": [
    {
     "name": "stdout",
     "output_type": "stream",
     "text": [
      "8\n",
      "8\n",
      "8\n",
      "8\n",
      "8\n"
     ]
    }
   ],
   "source": [
    "def create_multipliers():\n",
    "    return [lambda x: i*x for i in range(5)]\n",
    "\n",
    "for multiplier in create_multipliers():\n",
    "    print(multiplier(2))\n",
    "\n",
    "# Salen solo 8 porque e definen las funciones con la var i y el ultimo valor de i es 4"
   ]
  },
  {
   "cell_type": "markdown",
   "metadata": {},
   "source": [
    "hacemos para que salga como pensaba que salia\n"
   ]
  },
  {
   "cell_type": "code",
   "execution_count": 6,
   "metadata": {},
   "outputs": [
    {
     "name": "stdout",
     "output_type": "stream",
     "text": [
      "0\n",
      "2\n",
      "4\n",
      "6\n",
      "8\n"
     ]
    }
   ],
   "source": [
    "def create_multipliers():\n",
    "    return [lambda x, b=i: b*x for i in range(5)]\n",
    "\n",
    "for multiplier in create_multipliers():\n",
    "    print(multiplier(2))\n",
    "\n",
    "# ¿Por que? los argumentos default toman el valor en el momento de la defincición\n",
    "# pero lo que está dentro de a función toma el valor en el momento de la invocación"
   ]
  },
  {
   "cell_type": "code",
   "execution_count": 7,
   "metadata": {},
   "outputs": [
    {
     "name": "stdout",
     "output_type": "stream",
     "text": [
      "[6]\n",
      "[6, 'z']\n"
     ]
    }
   ],
   "source": [
    "def fun (x, l=[]):\n",
    "    l.append(x)\n",
    "    return l\n",
    "\n",
    "print(fun(6))\n",
    "print(fun('z'))"
   ]
  },
  {
   "cell_type": "markdown",
   "metadata": {},
   "source": [
    "# Programa del coche"
   ]
  },
  {
   "cell_type": "code",
   "execution_count": 152,
   "metadata": {},
   "outputs": [
    {
     "name": "stdout",
     "output_type": "stream",
     "text": [
      "'-'\n",
      "'-'\n",
      "'-'\n",
      "<filter object at 0x00000297297CC070>\n",
      "'-', '-'\n",
      "'-'\n",
      "'-', '-'\n",
      "<filter object at 0x00000297297CEAA0>\n",
      "'-', '-'\n",
      "'-'\n",
      "'-', '-', '-'\n",
      "<filter object at 0x00000297297CE980>\n",
      "'-', '-', '-'\n",
      "'-', '-'\n",
      "'-', '-', '-', '-'\n",
      "<filter object at 0x0000029729877EE0>\n",
      "'-', '-', '-'\n",
      "'-', '-', '-'\n",
      "'-', '-', '-', '-', '-'\n",
      "<filter object at 0x0000029729877730>\n",
      "'-', '-', '-', '-'\n",
      "'-', '-', '-', '-'\n",
      "'-', '-', '-', '-', '-'\n",
      "<filter object at 0x0000029729875EA0>\n"
     ]
    }
   ],
   "source": [
    "from random import random\n",
    "import itertools\n",
    "\n",
    "# Función principal de la carrera\n",
    "def carrera(pos, pasos):\n",
    "    if pasos > 0:\n",
    "        mostrar_carrera(pos)\n",
    "        nueva_pos = list(mover(pos))  # Convierte el map a una lista\n",
    "        carrera(nueva_pos, pasos - 1)  # Llamada recursiva\n",
    "\n",
    "# Mostrar la posición de los coches\n",
    "def mostrar_carrera(pos):\n",
    "    print('\\n'.join([''.join(itertools.repeat('-', p)) for p in pos]))\n",
    "\n",
    "# Función que mueve los coches\n",
    "def mover(pos):\n",
    "    return map(lambda x: x + 1 if random() > 0.3 else x, pos)\n",
    "\n",
    "# Parámetros de la carrera\n",
    "pasos = 5\n",
    "posiciones = [1, 1, 1]\n",
    "\n",
    "# Iniciar carrera\n",
    "carrera(posiciones, pasos)\n"
   ]
  },
  {
   "cell_type": "code",
   "execution_count": 153,
   "metadata": {},
   "outputs": [
    {
     "name": "stdout",
     "output_type": "stream",
     "text": [
      "-\n",
      "-\n",
      "-\n",
      "--\n",
      "--\n",
      "--\n",
      "---\n",
      "--\n",
      "---\n",
      "----\n",
      "--\n",
      "----\n",
      "-----\n",
      "--\n",
      "-----\n"
     ]
    }
   ],
   "source": [
    "from random import random\n",
    "import itertools\n",
    "import operator\n",
    "\n",
    "# Función principal de la carrera\n",
    "def carrera(pos, pasos):\n",
    "    for _ in range(pasos):\n",
    "        mostrar_carrera(pos)\n",
    "        pos = list(mover(pos))\n",
    "\n",
    "# Mostrar la posición de los coches\n",
    "def mostrar_carrera(pos):\n",
    "    for pos_coche in pos:\n",
    "        print(''.join(itertools.repeat('-', pos_coche)))\n",
    "\n",
    "# Función que mueve los coches\n",
    "def mover(pos):\n",
    "    def criterio_mover(x):\n",
    "        return x + 1 if random() > 0.3 else x\n",
    "    return map(criterio_mover, pos)\n",
    "\n",
    "# Parámetros de la carrera\n",
    "pasos = 5\n",
    "posiciones = [1, 1, 1]\n",
    "\n",
    "# Iniciar carrera\n",
    "carrera(posiciones, pasos)\n"
   ]
  },
  {
   "cell_type": "markdown",
   "metadata": {},
   "source": [
    "# 2024-10-01\n"
   ]
  },
  {
   "cell_type": "code",
   "execution_count": 2,
   "metadata": {},
   "outputs": [
    {
     "name": "stdout",
     "output_type": "stream",
     "text": [
      "[4, 12, 24, 24]\n"
     ]
    }
   ],
   "source": [
    "def facacum(n, acum=1):\n",
    "    yield acum*n\n",
    "    if n != 1:\n",
    "        yield from facacum(n-1,acum*n)\n",
    "\n",
    "print(list(facacum(4)))\n"
   ]
  },
  {
   "cell_type": "code",
   "execution_count": 21,
   "metadata": {},
   "outputs": [],
   "source": [
    "import itertools\n",
    "\n",
    "def escribe(fichsal, itdatos):\n",
    "    try:\n",
    "        fichsal.writelines(next(itdatos))\n",
    "    except:\n",
    "        fichsal.close()\n",
    "        return\n",
    "    escribe(fichsal, itdatos)\n",
    "\n",
    "lee=itertools.takewhile(lambda x: x != '***\\n', open('todo', 'r'))\n",
    "\n",
    "escribe(open('parte1', 'w'), lee)"
   ]
  },
  {
   "cell_type": "markdown",
   "metadata": {},
   "source": [
    "Aqui se pueden hacer pruebas con los iteradores"
   ]
  },
  {
   "cell_type": "code",
   "execution_count": 100,
   "metadata": {},
   "outputs": [],
   "source": [
    "import itertools\n",
    "\n",
    "def coge_parte_n(iter,n):\n",
    "    if n>1:\n",
    "        iter_new = itertools.dropwhile(lambda x: x != '***\\n', iter)\n",
    "        next(iter_new)\n",
    "        # print(list(iter_new))\n",
    "        return coge_parte_n(iter_new, n-1)\n",
    "    else:\n",
    "        # print(list(itertools.takewhile(lambda x: x != '***\\n', iter)))\n",
    "        return itertools.takewhile(lambda x: x != '***\\n', iter)\n",
    "\n",
    "def escribe(fichsal, itdatos):\n",
    "    try:\n",
    "        fichsal.writelines(next(itdatos))\n",
    "    except:\n",
    "        fichsal.close()\n",
    "        return\n",
    "    escribe(fichsal, itdatos)\n",
    "\n",
    "file_iter=itertools.takewhile(lambda x: x,open('todo', 'r'))\n",
    "\n",
    "parte2=coge_parte_n(file_iter,1)\n",
    "\n",
    "escribe(open('parte2', 'w'), parte2)\n",
    "\n",
    "# ['DO\\n', 'RE\\n', 'MI\\n', '***\\n', 'FA\\n', 'SOL\\n', 'LA\\n', '***\\n', 'SI']\n"
   ]
  },
  {
   "cell_type": "code",
   "execution_count": 29,
   "metadata": {},
   "outputs": [],
   "source": [
    "import itertools\n",
    "\n",
    "def escribe(fichsal, itdatos):\n",
    "    try:\n",
    "        fichsal.writelines(next(itdatos))\n",
    "    except:\n",
    "        fichsal.close()\n",
    "        return\n",
    "    escribe(fichsal, itdatos)\n",
    "\n",
    "todo_menos_parte1=itertools.dropwhile(lambda x: x != '***\\n', open('todo', 'r'))\n",
    "next(todo_menos_parte1)\n",
    "parte2=itertools.takewhile(lambda x: x != '***\\n', todo_menos_parte1)\n",
    "escribe(open('parte2', 'w'), parte2)"
   ]
  },
  {
   "cell_type": "markdown",
   "metadata": {},
   "source": [
    "# Programación Orietada a Objetos"
   ]
  },
  {
   "cell_type": "code",
   "execution_count": 82,
   "metadata": {},
   "outputs": [],
   "source": [
    "class Coche:\n",
    "   def __init__(self,cons,depos):\n",
    "      self.consumo = cons\n",
    "      self.depos = depos\n",
    "      self.capac=depos\n",
    "      self.veloc=0\n",
    "      # Añadimos parametros de velocidad maxima y consumo por kmh de velocidad\n",
    "      self.__vel_max__=250\n",
    "\n",
    "   def carga(self):\n",
    "      self.depos=self.capac\n",
    "      self.veloc=0\n",
    "\n",
    "   def cambia(self,cuanto):\n",
    "      if self.veloc+cuanto > self.__vel_max__:\n",
    "         self.veloc = self.__vel_max__\n",
    "\n",
    "      elif self.veloc+cuanto < 0:\n",
    "         self.veloc=0\n",
    "\n",
    "      else:\n",
    "         self.veloc+=cuanto\n",
    "\n",
    "      self.depos-=self.veloc*self.consumo\n",
    "\n",
    "      if self.depos<=0 :\n",
    "         self.carga()\n",
    "      return self.veloc\n",
    "   \n",
    "   def acelera(self, a):\n",
    "      print(self.cambia(a))\n",
    "\n",
    "   def frena(self, a):\n",
    "      print(self.cambia( -a))\n",
    "\n",
    "   def check_deposito(self):\n",
    "      print(self.depos)\n",
    "      \n",
    "   def aparca(self):\n",
    "      self.veloc=0\n",
    "\n",
    "\n",
    "car=Coche(.1,580)\n"
   ]
  },
  {
   "cell_type": "code",
   "execution_count": 85,
   "metadata": {},
   "outputs": [
    {
     "name": "stdout",
     "output_type": "stream",
     "text": [
      "580\n"
     ]
    }
   ],
   "source": [
    "car.check_deposito()"
   ]
  }
 ],
 "metadata": {
  "kernelspec": {
   "display_name": "base",
   "language": "python",
   "name": "python3"
  },
  "language_info": {
   "codemirror_mode": {
    "name": "ipython",
    "version": 3
   },
   "file_extension": ".py",
   "mimetype": "text/x-python",
   "name": "python",
   "nbconvert_exporter": "python",
   "pygments_lexer": "ipython3",
   "version": "3.12.6"
  }
 },
 "nbformat": 4,
 "nbformat_minor": 2
}
