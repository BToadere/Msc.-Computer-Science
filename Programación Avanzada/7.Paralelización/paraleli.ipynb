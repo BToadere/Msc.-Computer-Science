{
 "cells": [
  {
   "cell_type": "markdown",
   "metadata": {},
   "source": [
    "Importante qeu cada proceso sea independiente, no compratan variables, memoria...\n",
    "# Tipos de paralelización\n",
    "- Sincrono, todos empiezan a la vez y terminanan cuando terminenen todos.\n",
    "- Asincrono, hay un nodo qeu se didica a orquestrar el trabajo del resto\n",
    "\n",
    "Se usa `from multiprocessing` la clase `pool` usaremos los métodos `map` y `starmap`, el primero no permite difernetes inputs para las funciones\n"
   ]
  },
  {
   "cell_type": "code",
   "execution_count": 1,
   "metadata": {},
   "outputs": [
    {
     "name": "stdout",
     "output_type": "stream",
     "text": [
      "Número de procesadores: 8\n"
     ]
    }
   ],
   "source": [
    "import multiprocessing\n",
    "\n",
    "\n",
    "num_procs = multiprocessing.cpu_count()\n",
    "print(f'Número de procesadores: {num_procs}')\n",
    "\n"
   ]
  },
  {
   "cell_type": "code",
   "execution_count": 2,
   "metadata": {},
   "outputs": [],
   "source": [
    "import numpy as np\n",
    "import time\n",
    "\n",
    "\n",
    "def parzen_estim(muestra_x, punto_x, ancho):\n",
    "    cuenta = 0\n",
    "    for muestra in muestra_x:\n",
    "        dif = np.abs((punto_x - muestra) / ancho)\n",
    "        if np.all(dif<0.5):\n",
    "             cuenta += 1\n",
    "    return (ancho, (cuenta / muestra_x.shape[0]) / (ancho**len(punto_x)))\n",
    "\n",
    "\n",
    "def serie(poblacion, x, anchos):\n",
    "    return [parzen_estim(poblacion, x, a) for a in anchos]\n",
    "\n",
    "def paralelo(procesos, poblacion, x, anchos):\n",
    "    \n",
    "    argumentos = [[poblacion, x, a] for a in anchos]\n",
    "    proceso_paralelizacion = multiprocessing.Pool(procesos)\n",
    "    return proceso_paralelizacion.starmap(parzen_estim, argumentos).sort(key=lambda x: x[-1])\n"
   ]
  },
  {
   "cell_type": "code",
   "execution_count": 3,
   "metadata": {},
   "outputs": [],
   "source": [
    "mu = 0\n",
    "sigma = 1\n",
    "\n",
    "\n",
    "\n",
    "poblacion = np.random.normal(mu,sigma,100000)\n",
    "x=[np.array([1])]\n",
    "anchos4=[np.array([x]) for x in range(1,5)]\n",
    "anchos8=[np.array([x]) for x in range(1,5)]\n",
    "\n",
    "\n"
   ]
  },
  {
   "cell_type": "code",
   "execution_count": 4,
   "metadata": {},
   "outputs": [
    {
     "name": "stdout",
     "output_type": "stream",
     "text": [
      "7.49395227432251 s\n",
      "[(array([1]), array([0.24225])), (array([2]), array([0.2384])), (array([3]), array([0.22835333])), (array([4]), array([0.210065]))]\n"
     ]
    }
   ],
   "source": [
    "if __name__ == '__main__':\n",
    "    t0 =time.time()\n",
    "    var = serie(poblacion, x, anchos4)\n",
    "    tf=time.time()\n",
    "    print(f'{tf-t0} s')\n",
    "\n",
    "    print(var)"
   ]
  },
  {
   "cell_type": "code",
   "execution_count": null,
   "metadata": {},
   "outputs": [],
   "source": [
    "if __name__ == '__main__':\n",
    "    t0 =time.time()\n",
    "    var = paralelo(4,poblacion, x, anchos4)\n",
    "    tf=time.time()\n",
    "    print(f'{tf-t0} s')\n",
    "\n",
    "    print(var)"
   ]
  }
 ],
 "metadata": {
  "kernelspec": {
   "display_name": "Python 3",
   "language": "python",
   "name": "python3"
  },
  "language_info": {
   "codemirror_mode": {
    "name": "ipython",
    "version": 3
   },
   "file_extension": ".py",
   "mimetype": "text/x-python",
   "name": "python",
   "nbconvert_exporter": "python",
   "pygments_lexer": "ipython3",
   "version": "3.12.6"
  }
 },
 "nbformat": 4,
 "nbformat_minor": 2
}
